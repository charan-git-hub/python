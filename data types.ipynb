{
 "cells": [
  {
   "cell_type": "markdown",
   "id": "9cf8ecb1",
   "metadata": {},
   "source": [
    "# Data Types:\n"
   ]
  },
  {
   "cell_type": "markdown",
   "id": "6e8ff89b",
   "metadata": {},
   "source": [
    "what is data type in python?"
   ]
  },
  {
   "cell_type": "markdown",
   "id": "81cd9d15",
   "metadata": {},
   "source": [
    "In Python, a data type defines the kind of value a variable can hold. It determines the operations that can be performed on the variable and the amount of memory it occupies. Python has several built-in data types, each with its own characteristics and uses."
   ]
  },
  {
   "cell_type": "markdown",
   "id": "38e4989d",
   "metadata": {},
   "source": [
    "There are two most common data types in python"
   ]
  },
  {
   "cell_type": "markdown",
   "id": "25157772",
   "metadata": {},
   "source": [
    "# ^Numerical Data types:\n"
   ]
  },
  {
   "cell_type": "markdown",
   "id": "be259cdf",
   "metadata": {},
   "source": [
    "*int: Represents integers (whole numbers without decimal points).\n",
    "\n",
    "*float: Represents floating-point numbers (numbers with decimal points).\n",
    "\n",
    "*complex: Represents complex numbers (numbers with a real and imaginary part)\n",
    "\n",
    "*boolena:Represents True or False values.\n"
   ]
  },
  {
   "cell_type": "markdown",
   "id": "5fcd5c6a",
   "metadata": {},
   "source": [
    "# ^Sequence Data types:"
   ]
  },
  {
   "cell_type": "markdown",
   "id": "4b1a4b02",
   "metadata": {},
   "source": [
    "*list: Represents an ordered collection of elements, which can be of different data types.\n",
    "\n",
    "*tuple:Similar to lists, but immutable (cannot be changed once created).\n",
    "\n",
    "*str: Represents a sequence of characters (text).\n",
    "\n",
    "*bytes: Represents a sequence of bytes (raw data).\n",
    "\n",
    "*set: Represents an unordered collection of unique elements."
   ]
  },
  {
   "cell_type": "markdown",
   "id": "7d330cdb",
   "metadata": {},
   "source": [
    "# examples:"
   ]
  },
  {
   "cell_type": "code",
   "execution_count": 11,
   "id": "3b6190de",
   "metadata": {},
   "outputs": [
    {
     "name": "stdout",
     "output_type": "stream",
     "text": [
      "The type of variable have value False is <class 'bool'>\n",
      "The type of variable have value (-0-0.14j) is <class 'int'>\n",
      "The type of variable have value True is <class 'bool'>\n",
      "The type of variable have value (6+1j) is <class 'complex'>\n",
      "The type of variable have value True is <class 'bool'>\n",
      "The type of variable have value 2 is <class 'int'>\n",
      "The type of variable have value 0.0 is <class 'float'>\n",
      "The type of variable have value (-0-0.14j) is <class 'complex'>\n"
     ]
    }
   ],
   "source": [
    "# This program shows Variable is of which type()\n",
    "c=False\n",
    "h=5\n",
    "a=7\n",
    "r=6+1j\n",
    "a=True\n",
    "n=2\n",
    "g=0.0\n",
    "h=-.14j\n",
    "print(\"The type of variable have value\", c, \"is\", type(a))\n",
    "print(\"The type of variable have value\", h, \"is\", type(b))\n",
    "print(\"The type of variable have value\", a, \"is\", type(c))\n",
    "print(\"The type of variable have value\", r, \"is\", type(d))\n",
    "print(\"The type of variable have value\", a, \"is\", type(e))\n",
    "print(\"The type of variable have value\", n, \"is\", type(f))\n",
    "print(\"The type of variable have value\", g, \"is\", type(g))\n",
    "print(\"The type of variable have value\", h, \"is\", type(h))"
   ]
  },
  {
   "cell_type": "code",
   "execution_count": 10,
   "id": "30e4f754",
   "metadata": {},
   "outputs": [
    {
     "name": "stdout",
     "output_type": "stream",
     "text": [
      "True\n",
      "True\n",
      "True\n",
      "False\n"
     ]
    }
   ],
   "source": [
    "print(6<7)\n",
    "x=7\n",
    "print(bool(x))\n",
    "print(7>2)\n",
    "print(7==1)"
   ]
  },
  {
   "cell_type": "code",
   "execution_count": null,
   "id": "eebf7a58",
   "metadata": {},
   "outputs": [],
   "source": []
  }
 ],
 "metadata": {
  "kernelspec": {
   "display_name": "Python 3 (ipykernel)",
   "language": "python",
   "name": "python3"
  },
  "language_info": {
   "codemirror_mode": {
    "name": "ipython",
    "version": 3
   },
   "file_extension": ".py",
   "mimetype": "text/x-python",
   "name": "python",
   "nbconvert_exporter": "python",
   "pygments_lexer": "ipython3",
   "version": "3.11.5"
  }
 },
 "nbformat": 4,
 "nbformat_minor": 5
}
